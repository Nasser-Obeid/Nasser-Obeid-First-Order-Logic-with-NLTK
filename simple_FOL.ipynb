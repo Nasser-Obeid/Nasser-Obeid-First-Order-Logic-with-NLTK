{
  "nbformat": 4,
  "nbformat_minor": 0,
  "metadata": {
    "colab": {
      "provenance": []
    },
    "kernelspec": {
      "name": "python3",
      "display_name": "Python 3"
    },
    "language_info": {
      "name": "python"
    }
  },
  "cells": [
    {
      "cell_type": "code",
      "execution_count": 1,
      "metadata": {
        "id": "bRRdVDLiKqGP"
      },
      "outputs": [],
      "source": [
        "import nltk\n",
        "import sympy"
      ]
    },
    {
      "cell_type": "code",
      "source": [
        "nltk.download('punkt')\n",
        "sentence = \"Every student smiles.\"\n",
        "list_sentence = nltk.word_tokenize(sentence)\n",
        "list_sentence"
      ],
      "metadata": {
        "colab": {
          "base_uri": "https://localhost:8080/"
        },
        "id": "r21lRx6YLCV_",
        "outputId": "4e0ae68c-8f42-4674-be97-80295555058c"
      },
      "execution_count": 2,
      "outputs": [
        {
          "output_type": "stream",
          "name": "stderr",
          "text": [
            "[nltk_data] Downloading package punkt to /root/nltk_data...\n",
            "[nltk_data]   Unzipping tokenizers/punkt.zip.\n"
          ]
        },
        {
          "output_type": "execute_result",
          "data": {
            "text/plain": [
              "['Every', 'student', 'smiles', '.']"
            ]
          },
          "metadata": {},
          "execution_count": 2
        }
      ]
    },
    {
      "cell_type": "code",
      "source": [
        "variables = {\n",
        "    list_sentence[1] : \"x\"\n",
        "}\n",
        "\n",
        "quantifiers = {\n",
        "    \"A\": [\"x\"]\n",
        "}\n",
        "\n",
        "functions = {\n",
        "    list_sentence[2] : [variables[list_sentence[1]]]\n",
        "}\n",
        "\n",
        "equality = {}\n",
        "connectors = {}\n",
        "predicates = {}\n",
        "\n",
        "variables, quantifiers, functions"
      ],
      "metadata": {
        "colab": {
          "base_uri": "https://localhost:8080/"
        },
        "id": "_Hlu_h5iPnNY",
        "outputId": "6b48d049-cb51-4e5f-f7d4-fff9b5b91d2c"
      },
      "execution_count": 3,
      "outputs": [
        {
          "output_type": "execute_result",
          "data": {
            "text/plain": [
              "({'student': 'x'}, {'A': ['x']}, {'smiles': ['x']})"
            ]
          },
          "metadata": {},
          "execution_count": 3
        }
      ]
    },
    {
      "cell_type": "code",
      "source": [
        "sentence2 = \"Everyone walks or talks.\"\n",
        "tokens = nltk.word_tokenize(sentence2)\n",
        "tokens"
      ],
      "metadata": {
        "colab": {
          "base_uri": "https://localhost:8080/"
        },
        "id": "fTkPRvonQq9W",
        "outputId": "cbad28b5-75bb-4677-eb04-9f3f14ee6f9f"
      },
      "execution_count": 4,
      "outputs": [
        {
          "output_type": "execute_result",
          "data": {
            "text/plain": [
              "['Everyone', 'walks', 'or', 'talks', '.']"
            ]
          },
          "metadata": {},
          "execution_count": 4
        }
      ]
    },
    {
      "cell_type": "code",
      "source": [
        "variables2 = \"x\"\n",
        "quantifiers2 = {\n",
        "    \"A\": [\"x\"]\n",
        "}\n",
        "\n",
        "functions2 = {\n",
        "    list_sentence[1] : variables2,\n",
        "    list_sentence[3] : variables2\n",
        "}\n",
        "\n",
        "equality2 = {}\n",
        "connectors2 = {}\n",
        "predicates2 = {}"
      ],
      "metadata": {
        "id": "4mlk7jKPRcFY"
      },
      "execution_count": 5,
      "outputs": []
    },
    {
      "cell_type": "markdown",
      "source": [
        "The 'nltk.logic' module provides support for analyzing expressions of First-Order Logic (FOL).\n",
        "\n",
        "First-Order Logic (FOL): FOL is a formal system used to represent and reason about statements involving quantifiers (such as “for all” and “there exists”) and predicates (relations between objects). It’s a powerful tool for expressing complex relationships and making logical inferences.\n",
        "Expression Objects: The nltk.logic package allows you to parse FOL expressions into Expression objects. These objects represent logical statements, including quantified variables, predicates, and logical connectives (such as conjunction, disjunction, implication, and equivalence)."
      ],
      "metadata": {
        "id": "8At4Hg2JcUt9"
      }
    },
    {
      "cell_type": "code",
      "source": [
        "from nltk.sem.logic import *\n",
        "# the 'fromstring' obj from the 'Expression' module takes string of the terms.\n",
        "read_expr = Expression.fromstring"
      ],
      "metadata": {
        "id": "vCiYG3hSxN1D"
      },
      "execution_count": 6,
      "outputs": []
    },
    {
      "cell_type": "code",
      "source": [
        "# here we created a term, the term is as the following (there exists a man.)\n",
        "# in FOL: Ex (man(x))\n",
        "e1 = read_expr('exists x.man(x)')\n",
        "print(e1)\n",
        "\n",
        "# the 'alpha_convert' function is used to convert the variable in the term.\n",
        "# in FOL: Ex (man(x)) ====> Ez (man(z))\n",
        "e2 = e1.alpha_convert(Variable('z'))\n",
        "print(e2)\n",
        "\n",
        "# comparison between the two terms.\n",
        "# in FOL: is e1 equal e2 ====> is 'Ex (man(x))' == 'Ez (man(z))'\n",
        "e1 == e2"
      ],
      "metadata": {
        "colab": {
          "base_uri": "https://localhost:8080/"
        },
        "id": "w5ZTD9sAxnBr",
        "outputId": "b6ba91fc-7742-4bf9-c91c-98d6917fe088"
      },
      "execution_count": 7,
      "outputs": [
        {
          "output_type": "stream",
          "name": "stdout",
          "text": [
            "exists x.man(x)\n",
            "exists z.man(z)\n"
          ]
        },
        {
          "output_type": "execute_result",
          "data": {
            "text/plain": [
              "True"
            ]
          },
          "metadata": {},
          "execution_count": 7
        }
      ]
    },
    {
      "cell_type": "code",
      "source": [
        "# assigning variables\n",
        "print(read_expr(r'john'))\n",
        "print(read_expr(r'x'))\n",
        "print(read_expr(r'-man(x)'))\n",
        "print(read_expr(r'--man(x)'))\n",
        "print(read_expr(r'(man(x))'))"
      ],
      "metadata": {
        "id": "XDNuYDP20GQq",
        "colab": {
          "base_uri": "https://localhost:8080/"
        },
        "outputId": "71e970f8-674a-4c67-f10f-a164bd6c664c"
      },
      "execution_count": 8,
      "outputs": [
        {
          "output_type": "stream",
          "name": "stdout",
          "text": [
            "john\n",
            "x\n",
            "-man(x)\n",
            "--man(x)\n",
            "man(x)\n"
          ]
        }
      ]
    },
    {
      "cell_type": "markdown",
      "source": [
        "#Predicates and Functions:\n",
        "Now, what about predicates and functions, we'll be using the 'BinaryExpression()' function, for assigning the functions of the terms, it takes two 'Variables' as parameters. and the 'VariableExpression()' function, for assigning the predicates of the terms."
      ],
      "metadata": {
        "id": "pbGJa-XefWWH"
      }
    },
    {
      "cell_type": "code",
      "source": [
        "# here we have the sentence \"Sami is tall\".\n",
        "# in FOL: tall(Sami)\n",
        "\n",
        "# first define Sami as a \"Variable\"\n",
        "Sami = read_expr(r'Sami')\n",
        "\n",
        "# then difine the predicate\n",
        "tall = read_expr(r'tall(x)')\n",
        "sami_is_tall = tall(Sami)\n",
        "\n",
        "sami_is_tall"
      ],
      "metadata": {
        "colab": {
          "base_uri": "https://localhost:8080/"
        },
        "id": "b1u4T-3bejAH",
        "outputId": "795fc10b-0f4f-41df-bdae-83921eba7592"
      },
      "execution_count": 26,
      "outputs": [
        {
          "output_type": "execute_result",
          "data": {
            "text/plain": [
              "<ApplicationExpression tall(x,Sami)>"
            ]
          },
          "metadata": {},
          "execution_count": 26
        }
      ]
    },
    {
      "cell_type": "code",
      "source": [
        "# here we have the sentence \"Ali is a teacher\".\n",
        "# in FOL: teacher(Ali)\n",
        "\n",
        "# we can simply define both the predicate and the function in a single call\n",
        "ali_is_tall1 = read_expr(r'tall(Ali)')\n",
        "\n",
        "# or we can write it like this\n",
        "ali_is_tall2 = read_expr(r'\\P.P(Ali)(\\x.tall(x))').simplify()\n",
        "\n",
        "ali_is_tall1 == ali_is_tall2\n",
        "\n",
        "# but make sure too 'simplify()' the expression\n",
        "ali_is_tall2"
      ],
      "metadata": {
        "colab": {
          "base_uri": "https://localhost:8080/"
        },
        "id": "XVC49iXlhock",
        "outputId": "2e914a4f-f500-483e-d5a6-d9a0b30358cc"
      },
      "execution_count": 34,
      "outputs": [
        {
          "output_type": "execute_result",
          "data": {
            "text/plain": [
              "<ApplicationExpression tall(Ali)>"
            ]
          },
          "metadata": {},
          "execution_count": 34
        }
      ]
    },
    {
      "cell_type": "code",
      "source": [
        "# otherwise\n",
        "ali_is_tall3 = read_expr(r'\\P.P(Ali)(\\x.tall(x))')\n",
        "ali_is_tall3"
      ],
      "metadata": {
        "colab": {
          "base_uri": "https://localhost:8080/"
        },
        "id": "lyJjKDU6m4fe",
        "outputId": "f00a80a1-1cd6-4d0e-ad50-64ae3b44748f"
      },
      "execution_count": 32,
      "outputs": [
        {
          "output_type": "execute_result",
          "data": {
            "text/plain": [
              "<ApplicationExpression \\P.P(Ali)(\\x.tall(x))>"
            ]
          },
          "metadata": {},
          "execution_count": 32
        }
      ]
    },
    {
      "cell_type": "code",
      "source": [
        "ali_is_tall3 == ali_is_tall1"
      ],
      "metadata": {
        "colab": {
          "base_uri": "https://localhost:8080/"
        },
        "id": "ZBEUO-bOnAJm",
        "outputId": "3bda62cd-0493-4fd1-b19a-0a4fc80ef6df"
      },
      "execution_count": 33,
      "outputs": [
        {
          "output_type": "execute_result",
          "data": {
            "text/plain": [
              "False"
            ]
          },
          "metadata": {},
          "execution_count": 33
        }
      ]
    },
    {
      "cell_type": "code",
      "source": [
        "# Example: 'Ahmed is taller than Ali'\n",
        "# in FOL: Taller(Ahmed, Ali)\n",
        "\n",
        "Ahmed = read_expr(r'Ahmed')\n",
        "Ali = read_expr(r'Ali')\n",
        "\n",
        "Taller = read_expr(r'\\x.\\y.Taller(x, y)')\n",
        "\n",
        "Taller(Ahmed, Ali)"
      ],
      "metadata": {
        "colab": {
          "base_uri": "https://localhost:8080/"
        },
        "id": "MhzbHBm_oGyH",
        "outputId": "2f523cdc-d037-4024-d22a-bde52c638b1c"
      },
      "execution_count": 44,
      "outputs": [
        {
          "output_type": "execute_result",
          "data": {
            "text/plain": [
              "<ApplicationExpression ((\\x y.Taller(x,y))(Ahmed))(Ali)>"
            ]
          },
          "metadata": {},
          "execution_count": 44
        }
      ]
    },
    {
      "cell_type": "code",
      "source": [
        "Taller(Ahmed, Ali).simplify()"
      ],
      "metadata": {
        "colab": {
          "base_uri": "https://localhost:8080/"
        },
        "id": "So9a3jjHqTf-",
        "outputId": "c1b5c851-5cdb-49c5-b140-2023a77b72d2"
      },
      "execution_count": 45,
      "outputs": [
        {
          "output_type": "execute_result",
          "data": {
            "text/plain": [
              "<ApplicationExpression Taller(Ahmed,Ali)>"
            ]
          },
          "metadata": {},
          "execution_count": 45
        }
      ]
    },
    {
      "cell_type": "code",
      "source": [
        "# this way the expression goes bottom-up\n",
        "Taller2 = read_expr(r'\\P.P(Ahmed)(\\x.(\\P.P(Ali)(\\y.Taller(x,y))))').simplify()\n",
        "Taller2"
      ],
      "metadata": {
        "colab": {
          "base_uri": "https://localhost:8080/"
        },
        "id": "rhMrqdp9qY11",
        "outputId": "0ed87c3b-70e7-4ea6-b428-99b0e7878ee7"
      },
      "execution_count": 49,
      "outputs": [
        {
          "output_type": "execute_result",
          "data": {
            "text/plain": [
              "<ApplicationExpression Taller(Ahmed,Ali)>"
            ]
          },
          "metadata": {},
          "execution_count": 49
        }
      ]
    },
    {
      "cell_type": "code",
      "source": [
        "Taller == Taller2"
      ],
      "metadata": {
        "colab": {
          "base_uri": "https://localhost:8080/"
        },
        "id": "j65apRGauCsP",
        "outputId": "67686d1f-8944-49c7-ad8e-a0189176522a"
      },
      "execution_count": 56,
      "outputs": [
        {
          "output_type": "execute_result",
          "data": {
            "text/plain": [
              "False"
            ]
          },
          "metadata": {},
          "execution_count": 56
        }
      ]
    },
    {
      "cell_type": "code",
      "source": [
        "Taller.simplify() == Taller2"
      ],
      "metadata": {
        "colab": {
          "base_uri": "https://localhost:8080/"
        },
        "id": "N3Wdv0ANuNHm",
        "outputId": "67172d71-720c-4100-f96f-e67b0b046849"
      },
      "execution_count": 57,
      "outputs": [
        {
          "output_type": "execute_result",
          "data": {
            "text/plain": [
              "False"
            ]
          },
          "metadata": {},
          "execution_count": 57
        }
      ]
    },
    {
      "cell_type": "code",
      "source": [
        "# Taller(x,y) != Taller(Ahmed, Ali)\n",
        "\n",
        "Taller.simplify(), Taller2.simplify()"
      ],
      "metadata": {
        "colab": {
          "base_uri": "https://localhost:8080/"
        },
        "id": "Guw4cuR1vGhs",
        "outputId": "ed1fb93d-8b45-4fbb-d9ff-4f08fc0f9d48"
      },
      "execution_count": 58,
      "outputs": [
        {
          "output_type": "execute_result",
          "data": {
            "text/plain": [
              "(<LambdaExpression \\x y.Taller(x,y)>,\n",
              " <ApplicationExpression Taller(Ahmed,Ali)>)"
            ]
          },
          "metadata": {},
          "execution_count": 58
        }
      ]
    },
    {
      "cell_type": "code",
      "source": [
        "Taller(Ahmed, Ali).simplify() == Taller2"
      ],
      "metadata": {
        "colab": {
          "base_uri": "https://localhost:8080/"
        },
        "id": "duxeT2EBulGt",
        "outputId": "603586e3-e8cd-42d6-b436-0594e5e1bdab"
      },
      "execution_count": 55,
      "outputs": [
        {
          "output_type": "execute_result",
          "data": {
            "text/plain": [
              "True"
            ]
          },
          "metadata": {},
          "execution_count": 55
        }
      ]
    },
    {
      "cell_type": "markdown",
      "source": [
        "#Connectives:\n",
        "\n",
        "predicate logic on itself only expresses facts, and does not provide information on relationships between statements, and this is a crucial step to provide reasoning for the machine in order analyize the knowledge it has, and thats why in first order logic we use connectives between these predicates to provide the relationships between the predicates."
      ],
      "metadata": {
        "id": "hg5LeN08ytT2"
      }
    },
    {
      "cell_type": "markdown",
      "source": [
        "in NLTK we simply use the following characters to represent these connectives:\n",
        "\n",
        "negation : \"-\"\n",
        "\n",
        "conjunction : \"&\"\n",
        "\n",
        "disjunction : \"|\"\n",
        "\n",
        "implication : \"->\"\n",
        "\n",
        "equivalence : \"<->\""
      ],
      "metadata": {
        "id": "xRTtBE3B0-y9"
      }
    },
    {
      "cell_type": "code",
      "source": [
        "# Example: Ahmed eats burger and Ali plays basketball\n",
        "# in FOL: eats(Ahmed, burger) & plays(Ali, basketball)\n",
        "\n",
        "Ahmed = read_expr(r'Ahmed')\n",
        "burger = read_expr(r'burger')\n",
        "eats = read_expr(r'\\x.\\y.eats(x, y)')\n",
        "pre1 = eats(Ahmed, burger).simplify()\n",
        "\n",
        "pre1"
      ],
      "metadata": {
        "colab": {
          "base_uri": "https://localhost:8080/"
        },
        "id": "hxOIEgHA2Uqt",
        "outputId": "60bdb296-9475-4282-ceb7-db8352d2097c"
      },
      "execution_count": 61,
      "outputs": [
        {
          "output_type": "execute_result",
          "data": {
            "text/plain": [
              "<ApplicationExpression eats(Ahmed,burger)>"
            ]
          },
          "metadata": {},
          "execution_count": 61
        }
      ]
    },
    {
      "cell_type": "code",
      "source": [
        "Ali = read_expr(r'Ali')\n",
        "basketball = read_expr(r'basketball')\n",
        "plays = read_expr(r'\\x.\\y.plays(x, y)')\n",
        "pre2 = plays(Ali, basketball).simplify()\n",
        "\n",
        "pre2"
      ],
      "metadata": {
        "colab": {
          "base_uri": "https://localhost:8080/"
        },
        "id": "y7EpECYj3pyd",
        "outputId": "b0544619-0d66-4ad4-f2cb-24ba0d52b3fa"
      },
      "execution_count": 62,
      "outputs": [
        {
          "output_type": "execute_result",
          "data": {
            "text/plain": [
              "<ApplicationExpression plays(Ali,basketball)>"
            ]
          },
          "metadata": {},
          "execution_count": 62
        }
      ]
    },
    {
      "cell_type": "code",
      "source": [
        "FOL = (pre1 & pre2).simplify()\n",
        "FOL"
      ],
      "metadata": {
        "colab": {
          "base_uri": "https://localhost:8080/"
        },
        "id": "VKUC8hDP4W2l",
        "outputId": "59465977-ddd7-4dfd-9d49-5f88b523975e"
      },
      "execution_count": 64,
      "outputs": [
        {
          "output_type": "execute_result",
          "data": {
            "text/plain": [
              "<AndExpression (eats(Ahmed,burger) & plays(Ali,basketball))>"
            ]
          },
          "metadata": {},
          "execution_count": 64
        }
      ]
    },
    {
      "cell_type": "code",
      "source": [
        "# as we learned before, we can assign the term as is:\n",
        "FOL2 = read_expr(r'eats(Ahmed, burger) & plays(Ali, basketball)').simplify()\n",
        "FOL == FOL2"
      ],
      "metadata": {
        "colab": {
          "base_uri": "https://localhost:8080/"
        },
        "id": "ImVAOAhi5AMl",
        "outputId": "6c5b31af-eb59-43d6-9c58-d06fa952c794"
      },
      "execution_count": 65,
      "outputs": [
        {
          "output_type": "execute_result",
          "data": {
            "text/plain": [
              "True"
            ]
          },
          "metadata": {},
          "execution_count": 65
        }
      ]
    },
    {
      "cell_type": "code",
      "source": [
        "# other connectives:\n",
        "\n",
        "john = read_expr('john')\n",
        "man = read_expr('\\\\x.man(x)')\n",
        "walk = read_expr('\\\\x.walk(x)')\n",
        "\n",
        "print((man(john) & walk(john)).simplify())\n",
        "print((man(john) | walk(john)).simplify())\n",
        "print((man(john) > walk(john)).simplify())\n",
        "print((man(john) < walk(john)).simplify())"
      ],
      "metadata": {
        "colab": {
          "base_uri": "https://localhost:8080/"
        },
        "id": "lkzH4t5b0869",
        "outputId": "55d72e6d-d8db-45cc-f96d-8d136f719290"
      },
      "execution_count": 68,
      "outputs": [
        {
          "output_type": "stream",
          "name": "stdout",
          "text": [
            "(man(john) & walk(john))\n",
            "(man(john) | walk(john))\n",
            "(man(john) -> walk(john))\n",
            "(man(john) <-> walk(john))\n"
          ]
        }
      ]
    },
    {
      "cell_type": "markdown",
      "source": [
        "#Quantifiers:\n",
        " Quantifiers can be simply aplied by using the the 'exists' keyword for E quantifier(there exists, some etc.) and 'all' for the A quantifier(for all, every etc.)"
      ],
      "metadata": {
        "id": "PLX1RRDSwHw4"
      }
    },
    {
      "cell_type": "code",
      "source": [
        "# Example: 'Some dogs are large'.\n",
        "# in FOL: Ex (dog(x) & large(x))\n",
        "\n",
        "dogs = read_expr(r'dogs(x)')\n",
        "large = read_expr(r'large(x)')\n",
        "term = (dogs & large).simplify()\n",
        "\n",
        "term"
      ],
      "metadata": {
        "colab": {
          "base_uri": "https://localhost:8080/"
        },
        "id": "pmnF1M0swBCm",
        "outputId": "3b974c8c-716b-49cb-9fe2-18679aac619f"
      },
      "execution_count": 70,
      "outputs": [
        {
          "output_type": "execute_result",
          "data": {
            "text/plain": [
              "<AndExpression (dogs(x) & large(x))>"
            ]
          },
          "metadata": {},
          "execution_count": 70
        }
      ]
    },
    {
      "cell_type": "code",
      "source": [
        "exist = read_expr(r'exists x.P(x)')\n",
        "exist(term).simplify()"
      ],
      "metadata": {
        "colab": {
          "base_uri": "https://localhost:8080/"
        },
        "id": "hIQoWdMK728c",
        "outputId": "360f4735-e3bc-406c-b9c2-a25ffc8dde2b"
      },
      "execution_count": 77,
      "outputs": [
        {
          "output_type": "execute_result",
          "data": {
            "text/plain": [
              "<ApplicationExpression exists x.P(x)((dogs(x) & large(x)))>"
            ]
          },
          "metadata": {},
          "execution_count": 77
        }
      ]
    },
    {
      "cell_type": "code",
      "source": [
        "# Example: 'There is a tall student in room 105'.\n",
        "# in FOL: Ex (student(x) & tall(x) & in(x, room 105))\n",
        "\n",
        "student = read_expr(r'student(x)')\n",
        "tall = read_expr(r'tall(x)')\n",
        "in_func = read_expr(r\"in(x, room105)\")\n",
        "\n",
        "exist = read_expr(r'exists x.P(x)')\n",
        "pre = (student & tall & in_func).simplify()\n",
        "\n",
        "FOL = exist(pre).simplify()\n",
        "FOL"
      ],
      "metadata": {
        "colab": {
          "base_uri": "https://localhost:8080/"
        },
        "id": "urQg4CRU8yJs",
        "outputId": "50841299-44ab-4f5d-f08e-9a5937471d33"
      },
      "execution_count": 85,
      "outputs": [
        {
          "output_type": "execute_result",
          "data": {
            "text/plain": [
              "<ApplicationExpression exists x.P(x)((student(x) & tall(x) & in(x,room105)))>"
            ]
          },
          "metadata": {},
          "execution_count": 85
        }
      ]
    },
    {
      "cell_type": "code",
      "source": [
        "# make sure the spacinf is correct, only add spaces with connectives and quantifiers\n",
        "# here we also swapped between the 'in()' function with the 'tall()' predicate\n",
        "FOL2 = read_expr(r'exists x.P(x)((student(x) & in(x,room105) & tall(x)))').simplify()\n",
        "FOL == FOL2"
      ],
      "metadata": {
        "colab": {
          "base_uri": "https://localhost:8080/"
        },
        "id": "EkXfXBl5_BC0",
        "outputId": "4eed336a-8dc8-4101-9daa-95072785c66e"
      },
      "execution_count": 87,
      "outputs": [
        {
          "output_type": "execute_result",
          "data": {
            "text/plain": [
              "True"
            ]
          },
          "metadata": {},
          "execution_count": 87
        }
      ]
    }
  ]
}