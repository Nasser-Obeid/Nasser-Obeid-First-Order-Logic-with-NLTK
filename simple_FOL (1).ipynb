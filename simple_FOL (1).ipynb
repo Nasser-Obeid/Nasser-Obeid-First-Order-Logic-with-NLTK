{
  "nbformat": 4,
  "nbformat_minor": 0,
  "metadata": {
    "colab": {
      "provenance": []
    },
    "kernelspec": {
      "name": "python3",
      "display_name": "Python 3"
    },
    "language_info": {
      "name": "python"
    }
  },
  "cells": [
    {
      "cell_type": "markdown",
      "source": [
        "#Introduction:\n",
        "The 'nltk.logic' module provides support for analyzing expressions of First-Order Logic (FOL).\n",
        "\n",
        "First-Order Logic (FOL): FOL is a formal system used to represent and reason about statements involving quantifiers (such as “for all” and “there exists”) and predicates (relations between objects). It’s a powerful tool for expressing complex relationships and making logical inferences.\n",
        "Expression Objects: The nltk.logic package allows you to parse FOL expressions into Expression objects. These objects represent logical statements, including quantified variables, predicates, and logical connectives (such as conjunction, disjunction, implication, and equivalence)."
      ],
      "metadata": {
        "id": "8At4Hg2JcUt9"
      }
    },
    {
      "cell_type": "code",
      "source": [
        "from nltk.sem.logic import *\n",
        "# the 'fromstring' obj from the 'Expression' module takes string of the terms.\n",
        "read_expr = Expression.fromstring"
      ],
      "metadata": {
        "id": "vCiYG3hSxN1D"
      },
      "execution_count": 7,
      "outputs": []
    },
    {
      "cell_type": "code",
      "source": [
        "# here we created a term, the term is as the following (there exists a man.)\n",
        "# in FOL: Ex (man(x))\n",
        "e1 = read_expr('exists x.man(x)')\n",
        "print(e1)\n",
        "\n",
        "# the 'alpha_convert' function is used to convert the variable in the term.\n",
        "# in FOL: Ex (man(x)) ====> Ez (man(z))\n",
        "e2 = e1.alpha_convert(Variable('z'))\n",
        "print(e2)\n",
        "\n",
        "# comparison between the two terms.\n",
        "# in FOL: is e1 equal e2 ====> is 'Ex (man(x))' == 'Ez (man(z))'\n",
        "e1 == e2"
      ],
      "metadata": {
        "colab": {
          "base_uri": "https://localhost:8080/"
        },
        "id": "w5ZTD9sAxnBr",
        "outputId": "d7dcd641-a741-4c2a-d087-2e87ddf56526"
      },
      "execution_count": 8,
      "outputs": [
        {
          "output_type": "stream",
          "name": "stdout",
          "text": [
            "exists x.man(x)\n",
            "exists z.man(z)\n"
          ]
        },
        {
          "output_type": "execute_result",
          "data": {
            "text/plain": [
              "True"
            ]
          },
          "metadata": {},
          "execution_count": 8
        }
      ]
    },
    {
      "cell_type": "code",
      "source": [
        "# assigning variables\n",
        "print(read_expr(r'john'))\n",
        "print(read_expr(r'x'))\n",
        "print(read_expr(r'-man(x)'))\n",
        "print(read_expr(r'--man(x)'))\n",
        "print(read_expr(r'(man(x))'))"
      ],
      "metadata": {
        "id": "XDNuYDP20GQq",
        "colab": {
          "base_uri": "https://localhost:8080/"
        },
        "outputId": "10bc957a-1b7c-49d5-c88d-967b41a8200b"
      },
      "execution_count": 9,
      "outputs": [
        {
          "output_type": "stream",
          "name": "stdout",
          "text": [
            "john\n",
            "x\n",
            "-man(x)\n",
            "--man(x)\n",
            "man(x)\n"
          ]
        }
      ]
    },
    {
      "cell_type": "markdown",
      "source": [
        "#Predicates and Functions:\n",
        "Now, what about predicates and functions, we'll be using the 'BinaryExpression()' function, for assigning the functions of the terms, it takes two 'Variables' as parameters. and the 'VariableExpression()' function, for assigning the predicates of the terms."
      ],
      "metadata": {
        "id": "pbGJa-XefWWH"
      }
    },
    {
      "cell_type": "code",
      "source": [
        "# here we have the sentence \"Sami is tall\".\n",
        "# in FOL: tall(Sami)\n",
        "\n",
        "# first define Sami as a \"Variable\"\n",
        "Sami = read_expr(r'Sami')\n",
        "\n",
        "# then difine the predicate\n",
        "tall = read_expr(r'tall(x)')\n",
        "sami_is_tall = tall(Sami)\n",
        "\n",
        "sami_is_tall"
      ],
      "metadata": {
        "colab": {
          "base_uri": "https://localhost:8080/"
        },
        "id": "b1u4T-3bejAH",
        "outputId": "0b926c1e-f940-48ea-9661-5a1377aac480"
      },
      "execution_count": 10,
      "outputs": [
        {
          "output_type": "execute_result",
          "data": {
            "text/plain": [
              "<ApplicationExpression tall(x,Sami)>"
            ]
          },
          "metadata": {},
          "execution_count": 10
        }
      ]
    },
    {
      "cell_type": "code",
      "source": [
        "# here we have the sentence \"Ali is a teacher\".\n",
        "# in FOL: teacher(Ali)\n",
        "\n",
        "# we can simply define both the predicate and the function in a single call\n",
        "ali_is_tall1 = read_expr(r'tall(Ali)')\n",
        "\n",
        "# or we can write it like this\n",
        "ali_is_tall2 = read_expr(r'\\P.P(Ali)(\\x.tall(x))').simplify()\n",
        "\n",
        "print(ali_is_tall1 == ali_is_tall2)\n",
        "\n",
        "# but make sure too 'simplify()' the expression\n",
        "ali_is_tall2"
      ],
      "metadata": {
        "colab": {
          "base_uri": "https://localhost:8080/"
        },
        "id": "XVC49iXlhock",
        "outputId": "7541cedc-123a-4325-882c-1f4301be2ba4"
      },
      "execution_count": 11,
      "outputs": [
        {
          "output_type": "stream",
          "name": "stdout",
          "text": [
            "True\n"
          ]
        },
        {
          "output_type": "execute_result",
          "data": {
            "text/plain": [
              "<ApplicationExpression tall(Ali)>"
            ]
          },
          "metadata": {},
          "execution_count": 11
        }
      ]
    },
    {
      "cell_type": "code",
      "source": [
        "# otherwise\n",
        "ali_is_tall3 = read_expr(r'\\P.P(Ali)(\\x.tall(x))')\n",
        "ali_is_tall3"
      ],
      "metadata": {
        "colab": {
          "base_uri": "https://localhost:8080/"
        },
        "id": "lyJjKDU6m4fe",
        "outputId": "d064b2eb-1f4a-4c33-88d2-0485b62ed0aa"
      },
      "execution_count": 12,
      "outputs": [
        {
          "output_type": "execute_result",
          "data": {
            "text/plain": [
              "<ApplicationExpression \\P.P(Ali)(\\x.tall(x))>"
            ]
          },
          "metadata": {},
          "execution_count": 12
        }
      ]
    },
    {
      "cell_type": "code",
      "source": [
        "ali_is_tall3 == ali_is_tall1"
      ],
      "metadata": {
        "colab": {
          "base_uri": "https://localhost:8080/"
        },
        "id": "ZBEUO-bOnAJm",
        "outputId": "1a0ffa35-f972-4088-c7c7-0866e4fdd359"
      },
      "execution_count": 13,
      "outputs": [
        {
          "output_type": "execute_result",
          "data": {
            "text/plain": [
              "False"
            ]
          },
          "metadata": {},
          "execution_count": 13
        }
      ]
    },
    {
      "cell_type": "code",
      "source": [
        "# Example: 'Ahmed is taller than Ali'\n",
        "# in FOL: Taller(Ahmed, Ali)\n",
        "\n",
        "Ahmed = read_expr(r'Ahmed')\n",
        "Ali = read_expr(r'Ali')\n",
        "\n",
        "Taller = read_expr(r'\\x.\\y.Taller(x, y)')\n",
        "\n",
        "Taller(Ahmed, Ali)"
      ],
      "metadata": {
        "colab": {
          "base_uri": "https://localhost:8080/"
        },
        "id": "MhzbHBm_oGyH",
        "outputId": "14f9448f-74fb-45d7-9ca4-66f61536bd62"
      },
      "execution_count": 14,
      "outputs": [
        {
          "output_type": "execute_result",
          "data": {
            "text/plain": [
              "<ApplicationExpression ((\\x y.Taller(x,y))(Ahmed))(Ali)>"
            ]
          },
          "metadata": {},
          "execution_count": 14
        }
      ]
    },
    {
      "cell_type": "code",
      "source": [
        "Taller(Ahmed, Ali).simplify()"
      ],
      "metadata": {
        "colab": {
          "base_uri": "https://localhost:8080/"
        },
        "id": "So9a3jjHqTf-",
        "outputId": "896d1f1f-ebcd-4551-e707-954febade98b"
      },
      "execution_count": 15,
      "outputs": [
        {
          "output_type": "execute_result",
          "data": {
            "text/plain": [
              "<ApplicationExpression Taller(Ahmed,Ali)>"
            ]
          },
          "metadata": {},
          "execution_count": 15
        }
      ]
    },
    {
      "cell_type": "code",
      "source": [
        "# this way the expression goes bottom-up\n",
        "Taller2 = read_expr(r'\\P.P(Ahmed)(\\x.(\\P.P(Ali)(\\y.Taller(x,y))))').simplify()\n",
        "Taller2"
      ],
      "metadata": {
        "colab": {
          "base_uri": "https://localhost:8080/"
        },
        "id": "rhMrqdp9qY11",
        "outputId": "ee685c47-9b50-4f3d-c41d-18c9e486192a"
      },
      "execution_count": 17,
      "outputs": [
        {
          "output_type": "execute_result",
          "data": {
            "text/plain": [
              "<ApplicationExpression Taller(Ahmed,Ali)>"
            ]
          },
          "metadata": {},
          "execution_count": 17
        }
      ]
    },
    {
      "cell_type": "code",
      "source": [
        "Taller == Taller2"
      ],
      "metadata": {
        "colab": {
          "base_uri": "https://localhost:8080/"
        },
        "id": "j65apRGauCsP",
        "outputId": "813f43ac-8cb3-4be0-a582-a17b7cfc5f7e"
      },
      "execution_count": 18,
      "outputs": [
        {
          "output_type": "execute_result",
          "data": {
            "text/plain": [
              "False"
            ]
          },
          "metadata": {},
          "execution_count": 18
        }
      ]
    },
    {
      "cell_type": "code",
      "source": [
        "Taller.simplify() == Taller2"
      ],
      "metadata": {
        "colab": {
          "base_uri": "https://localhost:8080/"
        },
        "id": "N3Wdv0ANuNHm",
        "outputId": "ea3ed1db-1a9b-4305-afb6-779f5e0f2dd9"
      },
      "execution_count": 19,
      "outputs": [
        {
          "output_type": "execute_result",
          "data": {
            "text/plain": [
              "False"
            ]
          },
          "metadata": {},
          "execution_count": 19
        }
      ]
    },
    {
      "cell_type": "code",
      "source": [
        "# Taller(x,y) != Taller(Ahmed, Ali)\n",
        "\n",
        "Taller.simplify(), Taller2.simplify()"
      ],
      "metadata": {
        "colab": {
          "base_uri": "https://localhost:8080/"
        },
        "id": "Guw4cuR1vGhs",
        "outputId": "8d4428fe-6b32-48d3-990e-3e8392e38a37"
      },
      "execution_count": 20,
      "outputs": [
        {
          "output_type": "execute_result",
          "data": {
            "text/plain": [
              "(<LambdaExpression \\x y.Taller(x,y)>,\n",
              " <ApplicationExpression Taller(Ahmed,Ali)>)"
            ]
          },
          "metadata": {},
          "execution_count": 20
        }
      ]
    },
    {
      "cell_type": "code",
      "source": [
        "Taller(Ahmed, Ali).simplify() == Taller2"
      ],
      "metadata": {
        "colab": {
          "base_uri": "https://localhost:8080/"
        },
        "id": "duxeT2EBulGt",
        "outputId": "323448c3-10cc-467d-a87c-38e07e9c054a"
      },
      "execution_count": 21,
      "outputs": [
        {
          "output_type": "execute_result",
          "data": {
            "text/plain": [
              "True"
            ]
          },
          "metadata": {},
          "execution_count": 21
        }
      ]
    },
    {
      "cell_type": "markdown",
      "source": [
        "#Connectives:\n",
        "\n",
        "predicate logic on itself only expresses facts, and does not provide information on relationships between statements, and this is a crucial step to provide reasoning for the machine in order analyize the knowledge it has, and thats why in first order logic we use connectives between these predicates to provide the relationships between the predicates."
      ],
      "metadata": {
        "id": "hg5LeN08ytT2"
      }
    },
    {
      "cell_type": "markdown",
      "source": [
        "in NLTK we simply use the following characters to represent these connectives:\n",
        "\n",
        "negation : \"-\"\n",
        "\n",
        "conjunction : \"&\"\n",
        "\n",
        "disjunction : \"|\"\n",
        "\n",
        "implication : \"->\"\n",
        "\n",
        "equivalence : \"<->\""
      ],
      "metadata": {
        "id": "xRTtBE3B0-y9"
      }
    },
    {
      "cell_type": "code",
      "source": [
        "# Example: Ahmed eats burger and Ali plays basketball\n",
        "# in FOL: eats(Ahmed, burger) & plays(Ali, basketball)\n",
        "\n",
        "Ahmed = read_expr(r'Ahmed')\n",
        "burger = read_expr(r'burger')\n",
        "eats = read_expr(r'\\x.\\y.eats(x, y)')\n",
        "pre1 = eats(Ahmed, burger).simplify()\n",
        "\n",
        "pre1"
      ],
      "metadata": {
        "colab": {
          "base_uri": "https://localhost:8080/"
        },
        "id": "hxOIEgHA2Uqt",
        "outputId": "83b21155-1a9f-4eb9-ad48-593a2130857e"
      },
      "execution_count": 22,
      "outputs": [
        {
          "output_type": "execute_result",
          "data": {
            "text/plain": [
              "<ApplicationExpression eats(Ahmed,burger)>"
            ]
          },
          "metadata": {},
          "execution_count": 22
        }
      ]
    },
    {
      "cell_type": "code",
      "source": [
        "Ali = read_expr(r'Ali')\n",
        "basketball = read_expr(r'basketball')\n",
        "plays = read_expr(r'\\x.\\y.plays(x, y)')\n",
        "pre2 = plays(Ali, basketball).simplify()\n",
        "\n",
        "pre2"
      ],
      "metadata": {
        "colab": {
          "base_uri": "https://localhost:8080/"
        },
        "id": "y7EpECYj3pyd",
        "outputId": "1eb6ce69-c509-427b-bc89-084e75899d5f"
      },
      "execution_count": 23,
      "outputs": [
        {
          "output_type": "execute_result",
          "data": {
            "text/plain": [
              "<ApplicationExpression plays(Ali,basketball)>"
            ]
          },
          "metadata": {},
          "execution_count": 23
        }
      ]
    },
    {
      "cell_type": "code",
      "source": [
        "FOL = (pre1 & pre2).simplify()\n",
        "FOL"
      ],
      "metadata": {
        "colab": {
          "base_uri": "https://localhost:8080/"
        },
        "id": "VKUC8hDP4W2l",
        "outputId": "b4c24a92-52c5-4fb4-f6b0-888c2ef99a06"
      },
      "execution_count": 24,
      "outputs": [
        {
          "output_type": "execute_result",
          "data": {
            "text/plain": [
              "<AndExpression (eats(Ahmed,burger) & plays(Ali,basketball))>"
            ]
          },
          "metadata": {},
          "execution_count": 24
        }
      ]
    },
    {
      "cell_type": "code",
      "source": [
        "# as we learned before, we can assign the term as is:\n",
        "FOL2 = read_expr(r'eats(Ahmed, burger) & plays(Ali, basketball)').simplify()\n",
        "FOL == FOL2"
      ],
      "metadata": {
        "colab": {
          "base_uri": "https://localhost:8080/"
        },
        "id": "ImVAOAhi5AMl",
        "outputId": "3d9a13d1-eed0-474b-e7bc-a32429b566de"
      },
      "execution_count": 25,
      "outputs": [
        {
          "output_type": "execute_result",
          "data": {
            "text/plain": [
              "True"
            ]
          },
          "metadata": {},
          "execution_count": 25
        }
      ]
    },
    {
      "cell_type": "code",
      "source": [
        "# other connectives:\n",
        "\n",
        "john = read_expr('john')\n",
        "man = read_expr('\\\\x.man(x)')\n",
        "walk = read_expr('\\\\x.walk(x)')\n",
        "\n",
        "print((man(john) & walk(john)).simplify())\n",
        "print((man(john) | walk(john)).simplify())\n",
        "print((man(john) > walk(john)).simplify())\n",
        "print((man(john) < walk(john)).simplify())"
      ],
      "metadata": {
        "colab": {
          "base_uri": "https://localhost:8080/"
        },
        "id": "lkzH4t5b0869",
        "outputId": "9c3d8200-4455-458c-a519-c49955184112"
      },
      "execution_count": 26,
      "outputs": [
        {
          "output_type": "stream",
          "name": "stdout",
          "text": [
            "(man(john) & walk(john))\n",
            "(man(john) | walk(john))\n",
            "(man(john) -> walk(john))\n",
            "(man(john) <-> walk(john))\n"
          ]
        }
      ]
    },
    {
      "cell_type": "markdown",
      "source": [
        "#Quantifiers:\n",
        " Quantifiers can be simply aplied by using the the 'exists' keyword for E quantifier(there exists, some etc.) and 'all' for the A quantifier(for all, every etc.)"
      ],
      "metadata": {
        "id": "PLX1RRDSwHw4"
      }
    },
    {
      "cell_type": "code",
      "source": [
        "# Example: 'Some dogs are large'.\n",
        "# in FOL: Ex (dog(x) & large(x))\n",
        "\n",
        "dogs = read_expr(r'dogs(x)')\n",
        "large = read_expr(r'large(x)')\n",
        "term = (dogs & large).simplify()\n",
        "\n",
        "term"
      ],
      "metadata": {
        "colab": {
          "base_uri": "https://localhost:8080/"
        },
        "id": "pmnF1M0swBCm",
        "outputId": "ca78e936-ef44-457b-904c-beee4b4479fe"
      },
      "execution_count": 27,
      "outputs": [
        {
          "output_type": "execute_result",
          "data": {
            "text/plain": [
              "<AndExpression (dogs(x) & large(x))>"
            ]
          },
          "metadata": {},
          "execution_count": 27
        }
      ]
    },
    {
      "cell_type": "code",
      "source": [
        "exist = read_expr(r'exists x.P(x)')\n",
        "exist(term).simplify()"
      ],
      "metadata": {
        "colab": {
          "base_uri": "https://localhost:8080/"
        },
        "id": "hIQoWdMK728c",
        "outputId": "01f64543-36f2-45c3-f058-7cb06d9ee2a9"
      },
      "execution_count": 28,
      "outputs": [
        {
          "output_type": "execute_result",
          "data": {
            "text/plain": [
              "<ApplicationExpression exists x.P(x)((dogs(x) & large(x)))>"
            ]
          },
          "metadata": {},
          "execution_count": 28
        }
      ]
    },
    {
      "cell_type": "code",
      "source": [
        "# Example: 'There is a tall student in room 105'.\n",
        "# in FOL: Ex (student(x) & tall(x) & in(x, room 105))\n",
        "variable = read_expr(r'x')\n",
        "\n",
        "student = read_expr(r'\\x.student(x)')\n",
        "tall = read_expr(r'\\x.tall(x)')\n",
        "in_func = read_expr(r\"\\x.in(x, room105)\")\n",
        "\n",
        "exist = read_expr(r'exists x.P')\n",
        "pre = (student(variable) & tall(variable) & in_func(variable))\n",
        "\n",
        "FOL = exist(pre).simplify()\n",
        "print(FOL)"
      ],
      "metadata": {
        "colab": {
          "base_uri": "https://localhost:8080/"
        },
        "id": "urQg4CRU8yJs",
        "outputId": "0f9553ab-a62f-43fe-e263-1de4ed6f349f"
      },
      "execution_count": 64,
      "outputs": [
        {
          "output_type": "stream",
          "name": "stdout",
          "text": [
            "exists x.P((student(x) & tall(x) & in(x,room105)))\n"
          ]
        }
      ]
    },
    {
      "cell_type": "code",
      "source": [
        "# make sure the spacing is correct, only add spaces with connectives and quantifiers\n",
        "FOL2 = read_expr(r'exists x.P((student(x) & (tall(x) & (in(x,room105)))))').simplify()\n",
        "print(FOL2)"
      ],
      "metadata": {
        "colab": {
          "base_uri": "https://localhost:8080/"
        },
        "id": "EkXfXBl5_BC0",
        "outputId": "0a187171-8a65-425b-ad65-ad4a352a1b35"
      },
      "execution_count": 65,
      "outputs": [
        {
          "output_type": "stream",
          "name": "stdout",
          "text": [
            "exists x.P((student(x) & tall(x) & in(x,room105)))\n"
          ]
        }
      ]
    }
  ]
}